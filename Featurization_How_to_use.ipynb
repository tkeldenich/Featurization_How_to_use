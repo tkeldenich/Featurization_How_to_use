{
  "nbformat": 4,
  "nbformat_minor": 0,
  "metadata": {
    "colab": {
      "provenance": [],
      "collapsed_sections": [
        "K7qjjzwjfhcV"
      ],
      "authorship_tag": "ABX9TyOYgGN3Mz36mgfg1V5DJXTa",
      "include_colab_link": true
    },
    "kernelspec": {
      "name": "python3",
      "display_name": "Python 3"
    },
    "language_info": {
      "name": "python"
    }
  },
  "cells": [
    {
      "cell_type": "markdown",
      "metadata": {
        "id": "view-in-github",
        "colab_type": "text"
      },
      "source": [
        "<a href=\"https://colab.research.google.com/github/tkeldenich/Featurization_How_to_use/blob/main/Featurization_How_to_use.ipynb\" target=\"_parent\"><img src=\"https://colab.research.google.com/assets/colab-badge.svg\" alt=\"Open In Colab\"/></a>"
      ]
    },
    {
      "cell_type": "markdown",
      "source": [
        "# **Featurization – How to use it to boost your model**"
      ],
      "metadata": {
        "id": "hCweq7WqelI0"
      }
    },
    {
      "cell_type": "markdown",
      "source": [
        "*   [English Article](https://inside-machinelearning.com/en/featurization-how-to-use-it/)\n",
        "*   [French Article](https://inside-machinelearning.com/featurization/)"
      ],
      "metadata": {
        "id": "FDXSe_A_fF4A"
      }
    },
    {
      "cell_type": "markdown",
      "source": [
        "**Featurization** is a technique to **improve your Machine Learning model**. It allows to **enrich your dataset with new data.**\n",
        "\n",
        "Basically, **Featurization** is a synonym of **Feature Engineering**, a concept on which we have already written [a detailed article.](https://inside-machinelearning.com/en/difference-in-learning-feature-engineering/)\n",
        "\n",
        "To put it simply, Feature Engineering is another word for Preprocessing.\n",
        "\n",
        "Preprocessing represents **all the techniques used to transform our data.**\n",
        "\n",
        "Following preprocessing, we can train a Machine Learning model.\n",
        "\n",
        "An example of preprocessing is the following: **transforming text data into numerical format.**\n",
        "\n",
        "Ok then:\n",
        "\n",
        "*Featurization = Feature Engineering = Preprocessing*\n",
        "\n",
        "The problem: **nobody uses the word Featurization anymore.**\n",
        "\n",
        "It has been forgotten for a few years (I only found 4 articles about it on the internet).\n",
        "\n",
        "To the extent that the word Featurization has changed its meaning.\n",
        "\n",
        "While participating in **Kaggle competitions**, I saw it used by **various experts.**\n",
        "\n",
        "Featurization now refers to a specific technique."
      ],
      "metadata": {
        "id": "eomdYPUAerXx"
      }
    },
    {
      "cell_type": "markdown",
      "source": [
        "## **What is Featurization?**"
      ],
      "metadata": {
        "id": "K7qjjzwjfhcV"
      }
    },
    {
      "cell_type": "markdown",
      "source": [
        "Since there is no real definition, here is the one I propose:\n",
        "\n",
        "> **Featurization** is the set of techniques used to obtain new information from pre-existing data in a dataset.\n",
        "\n",
        "A simple example:\n",
        "\n",
        "* **A dataset** gathers the games of Scrabble players with two columns: difficulty and result of the match (win or not)\n",
        "* **The goal** is to predict the player’s score\n",
        "\n",
        "In this case, an example of **Featurization would be to add a third column** *Number of Victories* allowing us to know if the player was performing in his previous games:\n",
        "\n",
        "<image src=\"https://inside-machinelearning.com/wp-content/uploads/2022/12/Featurization-2048x637.jpeg\" width=\"700\">\n",
        "\n",
        "Featurization takes advantage of **pre-existing data** to add value to the dataset.\n",
        "\n",
        "Thus, I consider **Featurization** as a kind of **Data Augmentation.**\n",
        "\n",
        "The final goal of this technique is obviously **to improve the performance of the Machine Learning model.**\n",
        "\n",
        "Enough of blabla. **Let’s get down to business!**\n",
        "\n"
      ],
      "metadata": {
        "id": "cHZ4MfZIfjl8"
      }
    },
    {
      "cell_type": "markdown",
      "source": [
        "## **Dataset**"
      ],
      "metadata": {
        "id": "xa72ovjOMtDd"
      }
    },
    {
      "cell_type": "markdown",
      "source": [
        "In this tutorial we will take a simplified version of the Kaggle competition dataset: [Scrabble Player Rating](https://www.kaggle.com/competitions/scrabble-player-rating)\n",
        "\n",
        "**The goal is to predict the score of a player in a scrabble match.**\n",
        "\n",
        "Each row represents a match against a robot.\n",
        "\n",
        "We have 11 columns:\n",
        "\n",
        "* **nickname** – player’s name\n",
        "* **score** – player’s score at the end of the match\n",
        "* **rating** – rating on woogles.io BEFORE the game is played (the column to predict)\n",
        "* **bot_name** – the name of the bot the player played against\n",
        "* **bot_score** – the bot’s score at the end of the game\n",
        "* **bot_rating** – bot’s rating on woogles.io BEFORE the game is played\n",
        "* **game_end_reason** – how the game ended\n",
        "* **winner** – the winner, 0 if the player and 1 if the bot\n",
        "* **created_at** – the date of the game\n",
        "* **game_duration_seconds** – the duration of the game in seconds\n",
        "\n",
        "We start by importing the datasets that I stored on github:"
      ],
      "metadata": {
        "id": "LVlT3uidgMJ0"
      }
    },
    {
      "cell_type": "code",
      "execution_count": null,
      "metadata": {
        "colab": {
          "base_uri": "https://localhost:8080/"
        },
        "id": "lPCJf2fAtIDt",
        "outputId": "53fed751-4b66-4bae-e0cc-29323cb94f54"
      },
      "outputs": [
        {
          "output_type": "stream",
          "name": "stdout",
          "text": [
            "Cloning into 'datasets'...\n",
            "remote: Enumerating objects: 30, done.\u001b[K\n",
            "remote: Counting objects: 100% (30/30), done.\u001b[K\n",
            "remote: Compressing objects: 100% (29/29), done.\u001b[K\n",
            "remote: Total 30 (delta 8), reused 0 (delta 0), pack-reused 0\u001b[K\n",
            "Unpacking objects: 100% (30/30), done.\n"
          ]
        }
      ],
      "source": [
        "!git clone https://github.com/tkeldenich/datasets.git"
      ]
    },
    {
      "cell_type": "markdown",
      "source": [
        "Then you can open the dataset we are interested in with the pandas library :"
      ],
      "metadata": {
        "id": "OOzL3B6sgj3p"
      }
    },
    {
      "cell_type": "code",
      "source": [
        "import pandas as pd\n",
        "\n",
        "df = pd.read_csv('/content/datasets/simplified-scrabble-player-rating.csv', index_col='game_id')\n",
        "\n",
        "df.head()"
      ],
      "metadata": {
        "colab": {
          "base_uri": "https://localhost:8080/",
          "height": 235
        },
        "id": "iUCT1kNttMlr",
        "outputId": "b2976102-3557-41f0-a20e-51658fb54c1a"
      },
      "execution_count": null,
      "outputs": [
        {
          "output_type": "execute_result",
          "data": {
            "text/plain": [
              "               nickname  score  rating   bot_name  bot_score  bot_rating  \\\n",
              "game_id                                                                    \n",
              "1                 stevy    429  1500.0  BetterBot        335      1637.0   \n",
              "3             davidavid    440  1811.0  BetterBot        318      2071.0   \n",
              "4        Inandoutworker    119  1473.0  BetterBot        478      1936.0   \n",
              "5                 stevy    325  1500.0    STEEBot        427      1844.0   \n",
              "6                HivinD    378  2029.0    STEEBot        427      2143.0   \n",
              "\n",
              "          first game_end_reason  winner           created_at  \\\n",
              "game_id                                                        \n",
              "1           bot        STANDARD       1  2022-08-26 03:38:49   \n",
              "3           bot        STANDARD       1  2022-09-04 08:04:27   \n",
              "4           bot        RESIGNED       0  2022-09-12 02:36:19   \n",
              "5           bot        STANDARD       0  2022-09-06 04:31:36   \n",
              "6        player        STANDARD       0  2022-08-21 14:56:35   \n",
              "\n",
              "         game_duration_seconds  \n",
              "game_id                         \n",
              "1                   674.844274  \n",
              "3                   492.268262  \n",
              "4                   350.861141  \n",
              "5                   642.688722  \n",
              "6                   426.950541  "
            ],
            "text/html": [
              "\n",
              "  <div id=\"df-e01824a3-ec40-495b-b7c6-c22366f5aa44\">\n",
              "    <div class=\"colab-df-container\">\n",
              "      <div>\n",
              "<style scoped>\n",
              "    .dataframe tbody tr th:only-of-type {\n",
              "        vertical-align: middle;\n",
              "    }\n",
              "\n",
              "    .dataframe tbody tr th {\n",
              "        vertical-align: top;\n",
              "    }\n",
              "\n",
              "    .dataframe thead th {\n",
              "        text-align: right;\n",
              "    }\n",
              "</style>\n",
              "<table border=\"1\" class=\"dataframe\">\n",
              "  <thead>\n",
              "    <tr style=\"text-align: right;\">\n",
              "      <th></th>\n",
              "      <th>nickname</th>\n",
              "      <th>score</th>\n",
              "      <th>rating</th>\n",
              "      <th>bot_name</th>\n",
              "      <th>bot_score</th>\n",
              "      <th>bot_rating</th>\n",
              "      <th>first</th>\n",
              "      <th>game_end_reason</th>\n",
              "      <th>winner</th>\n",
              "      <th>created_at</th>\n",
              "      <th>game_duration_seconds</th>\n",
              "    </tr>\n",
              "    <tr>\n",
              "      <th>game_id</th>\n",
              "      <th></th>\n",
              "      <th></th>\n",
              "      <th></th>\n",
              "      <th></th>\n",
              "      <th></th>\n",
              "      <th></th>\n",
              "      <th></th>\n",
              "      <th></th>\n",
              "      <th></th>\n",
              "      <th></th>\n",
              "      <th></th>\n",
              "    </tr>\n",
              "  </thead>\n",
              "  <tbody>\n",
              "    <tr>\n",
              "      <th>1</th>\n",
              "      <td>stevy</td>\n",
              "      <td>429</td>\n",
              "      <td>1500.0</td>\n",
              "      <td>BetterBot</td>\n",
              "      <td>335</td>\n",
              "      <td>1637.0</td>\n",
              "      <td>bot</td>\n",
              "      <td>STANDARD</td>\n",
              "      <td>1</td>\n",
              "      <td>2022-08-26 03:38:49</td>\n",
              "      <td>674.844274</td>\n",
              "    </tr>\n",
              "    <tr>\n",
              "      <th>3</th>\n",
              "      <td>davidavid</td>\n",
              "      <td>440</td>\n",
              "      <td>1811.0</td>\n",
              "      <td>BetterBot</td>\n",
              "      <td>318</td>\n",
              "      <td>2071.0</td>\n",
              "      <td>bot</td>\n",
              "      <td>STANDARD</td>\n",
              "      <td>1</td>\n",
              "      <td>2022-09-04 08:04:27</td>\n",
              "      <td>492.268262</td>\n",
              "    </tr>\n",
              "    <tr>\n",
              "      <th>4</th>\n",
              "      <td>Inandoutworker</td>\n",
              "      <td>119</td>\n",
              "      <td>1473.0</td>\n",
              "      <td>BetterBot</td>\n",
              "      <td>478</td>\n",
              "      <td>1936.0</td>\n",
              "      <td>bot</td>\n",
              "      <td>RESIGNED</td>\n",
              "      <td>0</td>\n",
              "      <td>2022-09-12 02:36:19</td>\n",
              "      <td>350.861141</td>\n",
              "    </tr>\n",
              "    <tr>\n",
              "      <th>5</th>\n",
              "      <td>stevy</td>\n",
              "      <td>325</td>\n",
              "      <td>1500.0</td>\n",
              "      <td>STEEBot</td>\n",
              "      <td>427</td>\n",
              "      <td>1844.0</td>\n",
              "      <td>bot</td>\n",
              "      <td>STANDARD</td>\n",
              "      <td>0</td>\n",
              "      <td>2022-09-06 04:31:36</td>\n",
              "      <td>642.688722</td>\n",
              "    </tr>\n",
              "    <tr>\n",
              "      <th>6</th>\n",
              "      <td>HivinD</td>\n",
              "      <td>378</td>\n",
              "      <td>2029.0</td>\n",
              "      <td>STEEBot</td>\n",
              "      <td>427</td>\n",
              "      <td>2143.0</td>\n",
              "      <td>player</td>\n",
              "      <td>STANDARD</td>\n",
              "      <td>0</td>\n",
              "      <td>2022-08-21 14:56:35</td>\n",
              "      <td>426.950541</td>\n",
              "    </tr>\n",
              "  </tbody>\n",
              "</table>\n",
              "</div>\n",
              "      <button class=\"colab-df-convert\" onclick=\"convertToInteractive('df-e01824a3-ec40-495b-b7c6-c22366f5aa44')\"\n",
              "              title=\"Convert this dataframe to an interactive table.\"\n",
              "              style=\"display:none;\">\n",
              "        \n",
              "  <svg xmlns=\"http://www.w3.org/2000/svg\" height=\"24px\"viewBox=\"0 0 24 24\"\n",
              "       width=\"24px\">\n",
              "    <path d=\"M0 0h24v24H0V0z\" fill=\"none\"/>\n",
              "    <path d=\"M18.56 5.44l.94 2.06.94-2.06 2.06-.94-2.06-.94-.94-2.06-.94 2.06-2.06.94zm-11 1L8.5 8.5l.94-2.06 2.06-.94-2.06-.94L8.5 2.5l-.94 2.06-2.06.94zm10 10l.94 2.06.94-2.06 2.06-.94-2.06-.94-.94-2.06-.94 2.06-2.06.94z\"/><path d=\"M17.41 7.96l-1.37-1.37c-.4-.4-.92-.59-1.43-.59-.52 0-1.04.2-1.43.59L10.3 9.45l-7.72 7.72c-.78.78-.78 2.05 0 2.83L4 21.41c.39.39.9.59 1.41.59.51 0 1.02-.2 1.41-.59l7.78-7.78 2.81-2.81c.8-.78.8-2.07 0-2.86zM5.41 20L4 18.59l7.72-7.72 1.47 1.35L5.41 20z\"/>\n",
              "  </svg>\n",
              "      </button>\n",
              "      \n",
              "  <style>\n",
              "    .colab-df-container {\n",
              "      display:flex;\n",
              "      flex-wrap:wrap;\n",
              "      gap: 12px;\n",
              "    }\n",
              "\n",
              "    .colab-df-convert {\n",
              "      background-color: #E8F0FE;\n",
              "      border: none;\n",
              "      border-radius: 50%;\n",
              "      cursor: pointer;\n",
              "      display: none;\n",
              "      fill: #1967D2;\n",
              "      height: 32px;\n",
              "      padding: 0 0 0 0;\n",
              "      width: 32px;\n",
              "    }\n",
              "\n",
              "    .colab-df-convert:hover {\n",
              "      background-color: #E2EBFA;\n",
              "      box-shadow: 0px 1px 2px rgba(60, 64, 67, 0.3), 0px 1px 3px 1px rgba(60, 64, 67, 0.15);\n",
              "      fill: #174EA6;\n",
              "    }\n",
              "\n",
              "    [theme=dark] .colab-df-convert {\n",
              "      background-color: #3B4455;\n",
              "      fill: #D2E3FC;\n",
              "    }\n",
              "\n",
              "    [theme=dark] .colab-df-convert:hover {\n",
              "      background-color: #434B5C;\n",
              "      box-shadow: 0px 1px 3px 1px rgba(0, 0, 0, 0.15);\n",
              "      filter: drop-shadow(0px 1px 2px rgba(0, 0, 0, 0.3));\n",
              "      fill: #FFFFFF;\n",
              "    }\n",
              "  </style>\n",
              "\n",
              "      <script>\n",
              "        const buttonEl =\n",
              "          document.querySelector('#df-e01824a3-ec40-495b-b7c6-c22366f5aa44 button.colab-df-convert');\n",
              "        buttonEl.style.display =\n",
              "          google.colab.kernel.accessAllowed ? 'block' : 'none';\n",
              "\n",
              "        async function convertToInteractive(key) {\n",
              "          const element = document.querySelector('#df-e01824a3-ec40-495b-b7c6-c22366f5aa44');\n",
              "          const dataTable =\n",
              "            await google.colab.kernel.invokeFunction('convertToInteractive',\n",
              "                                                     [key], {});\n",
              "          if (!dataTable) return;\n",
              "\n",
              "          const docLinkHtml = 'Like what you see? Visit the ' +\n",
              "            '<a target=\"_blank\" href=https://colab.research.google.com/notebooks/data_table.ipynb>data table notebook</a>'\n",
              "            + ' to learn more about interactive tables.';\n",
              "          element.innerHTML = '';\n",
              "          dataTable['output_type'] = 'display_data';\n",
              "          await google.colab.output.renderOutput(dataTable, element);\n",
              "          const docLink = document.createElement('div');\n",
              "          docLink.innerHTML = docLinkHtml;\n",
              "          element.appendChild(docLink);\n",
              "        }\n",
              "      </script>\n",
              "    </div>\n",
              "  </div>\n",
              "  "
            ]
          },
          "metadata": {},
          "execution_count": 2
        }
      ]
    },
    {
      "cell_type": "markdown",
      "source": [
        "We will quickly deal with the preprocessing since it is not the main topic of the article.\n",
        "\n",
        "Here we only need to transform our text categorical data into numerical categorical data."
      ],
      "metadata": {
        "id": "cpzrGf_3gloJ"
      }
    },
    {
      "cell_type": "markdown",
      "source": [
        "## **Preprocessing**"
      ],
      "metadata": {
        "id": "YOXI5PrHgm-o"
      }
    },
    {
      "cell_type": "markdown",
      "source": [
        "For this we use the *category_encoders* library which makes the task much easier:"
      ],
      "metadata": {
        "id": "_SBIpDgegqA-"
      }
    },
    {
      "cell_type": "code",
      "source": [
        "!pip install category_encoders &> /dev/null"
      ],
      "metadata": {
        "id": "OIa1VpR-t7Mv"
      },
      "execution_count": null,
      "outputs": []
    },
    {
      "cell_type": "markdown",
      "source": [
        "With it we can transform categorical data like the *game_end_reason* column.\n",
        "\n",
        "It has 4 categories:"
      ],
      "metadata": {
        "id": "E1Yieibwgr5C"
      }
    },
    {
      "cell_type": "code",
      "source": [
        "df.game_end_reason.unique()"
      ],
      "metadata": {
        "colab": {
          "base_uri": "https://localhost:8080/"
        },
        "id": "cNt9aBtxuWSE",
        "outputId": "fea49a5c-3e7d-4f11-f3b4-fef2d474cdb5"
      },
      "execution_count": null,
      "outputs": [
        {
          "output_type": "execute_result",
          "data": {
            "text/plain": [
              "array(['STANDARD', 'RESIGNED', 'TIME', 'CONSECUTIVE_ZEROES'], dtype=object)"
            ]
          },
          "metadata": {},
          "execution_count": 4
        }
      ]
    },
    {
      "cell_type": "markdown",
      "source": [
        "Instead of these textual data, we will have only numbers: 1,2,3,4. Without this we could not train a Machine Learning model.\n",
        "\n",
        "We use the *OrdinalEncoder* function which encodes all our categories into numerical data.\n",
        "\n",
        "**BEWARE**, it is not because you know that there are categorical data in your dataset that Python has detected them. To see if it has recognized your data, use df.types, the categorical columns should be noted *“category”* or *“object“*.\n",
        "\n",
        "We see that there is a problem. Our categories have the type “object” but the *created_at* column also.\n",
        "\n",
        "This is not good. If we leave the dataset like that, all our *created_at* data will be transformed into a simple number.\n",
        "\n",
        "To counter this, we tell Python that our column is of type *“datetime“*:"
      ],
      "metadata": {
        "id": "iH_PQyeygtTp"
      }
    },
    {
      "cell_type": "code",
      "source": [
        "df['created_at'] = pd.to_datetime(df['created_at'])"
      ],
      "metadata": {
        "id": "T8YNhhGNe9Fz"
      },
      "execution_count": null,
      "outputs": []
    },
    {
      "cell_type": "markdown",
      "source": [
        "We can now use the OrdinalEncoder function on the whole dataset.\n",
        "\n",
        "It will detect the objects and transform them into numbers:"
      ],
      "metadata": {
        "id": "AAD8ZN3Jg31V"
      }
    },
    {
      "cell_type": "code",
      "source": [
        "import category_encoders as ce\n",
        "\n",
        "X = df.copy()\n",
        "X = ce.OrdinalEncoder().fit_transform(X).drop(\"rating\", axis=1)\n",
        "y = df[\"rating\"]"
      ],
      "metadata": {
        "id": "GMAivbsBtcqq"
      },
      "execution_count": null,
      "outputs": []
    },
    {
      "cell_type": "markdown",
      "source": [
        "We check that everything is ok:"
      ],
      "metadata": {
        "id": "dMa2e13Cg6Iu"
      }
    },
    {
      "cell_type": "code",
      "source": [
        "X.head()"
      ],
      "metadata": {
        "colab": {
          "base_uri": "https://localhost:8080/",
          "height": 235
        },
        "id": "3Yr96XdNt4mm",
        "outputId": "86d7a573-bb09-4d58-e965-90b361f8ce38"
      },
      "execution_count": null,
      "outputs": [
        {
          "output_type": "execute_result",
          "data": {
            "text/plain": [
              "         nickname  score  bot_name  bot_score  bot_rating  first  \\\n",
              "game_id                                                            \n",
              "1               1    429         1        335      1637.0      1   \n",
              "3               2    440         1        318      2071.0      1   \n",
              "4               3    119         1        478      1936.0      1   \n",
              "5               1    325         2        427      1844.0      1   \n",
              "6               4    378         2        427      2143.0      2   \n",
              "\n",
              "         game_end_reason  winner          created_at  game_duration_seconds  \n",
              "game_id                                                                      \n",
              "1                      1       1 2022-08-26 03:38:49             674.844274  \n",
              "3                      1       1 2022-09-04 08:04:27             492.268262  \n",
              "4                      2       0 2022-09-12 02:36:19             350.861141  \n",
              "5                      1       0 2022-09-06 04:31:36             642.688722  \n",
              "6                      1       0 2022-08-21 14:56:35             426.950541  "
            ],
            "text/html": [
              "\n",
              "  <div id=\"df-9ce9ecf4-06ec-404c-b9e9-5f52db859c32\">\n",
              "    <div class=\"colab-df-container\">\n",
              "      <div>\n",
              "<style scoped>\n",
              "    .dataframe tbody tr th:only-of-type {\n",
              "        vertical-align: middle;\n",
              "    }\n",
              "\n",
              "    .dataframe tbody tr th {\n",
              "        vertical-align: top;\n",
              "    }\n",
              "\n",
              "    .dataframe thead th {\n",
              "        text-align: right;\n",
              "    }\n",
              "</style>\n",
              "<table border=\"1\" class=\"dataframe\">\n",
              "  <thead>\n",
              "    <tr style=\"text-align: right;\">\n",
              "      <th></th>\n",
              "      <th>nickname</th>\n",
              "      <th>score</th>\n",
              "      <th>bot_name</th>\n",
              "      <th>bot_score</th>\n",
              "      <th>bot_rating</th>\n",
              "      <th>first</th>\n",
              "      <th>game_end_reason</th>\n",
              "      <th>winner</th>\n",
              "      <th>created_at</th>\n",
              "      <th>game_duration_seconds</th>\n",
              "    </tr>\n",
              "    <tr>\n",
              "      <th>game_id</th>\n",
              "      <th></th>\n",
              "      <th></th>\n",
              "      <th></th>\n",
              "      <th></th>\n",
              "      <th></th>\n",
              "      <th></th>\n",
              "      <th></th>\n",
              "      <th></th>\n",
              "      <th></th>\n",
              "      <th></th>\n",
              "    </tr>\n",
              "  </thead>\n",
              "  <tbody>\n",
              "    <tr>\n",
              "      <th>1</th>\n",
              "      <td>1</td>\n",
              "      <td>429</td>\n",
              "      <td>1</td>\n",
              "      <td>335</td>\n",
              "      <td>1637.0</td>\n",
              "      <td>1</td>\n",
              "      <td>1</td>\n",
              "      <td>1</td>\n",
              "      <td>2022-08-26 03:38:49</td>\n",
              "      <td>674.844274</td>\n",
              "    </tr>\n",
              "    <tr>\n",
              "      <th>3</th>\n",
              "      <td>2</td>\n",
              "      <td>440</td>\n",
              "      <td>1</td>\n",
              "      <td>318</td>\n",
              "      <td>2071.0</td>\n",
              "      <td>1</td>\n",
              "      <td>1</td>\n",
              "      <td>1</td>\n",
              "      <td>2022-09-04 08:04:27</td>\n",
              "      <td>492.268262</td>\n",
              "    </tr>\n",
              "    <tr>\n",
              "      <th>4</th>\n",
              "      <td>3</td>\n",
              "      <td>119</td>\n",
              "      <td>1</td>\n",
              "      <td>478</td>\n",
              "      <td>1936.0</td>\n",
              "      <td>1</td>\n",
              "      <td>2</td>\n",
              "      <td>0</td>\n",
              "      <td>2022-09-12 02:36:19</td>\n",
              "      <td>350.861141</td>\n",
              "    </tr>\n",
              "    <tr>\n",
              "      <th>5</th>\n",
              "      <td>1</td>\n",
              "      <td>325</td>\n",
              "      <td>2</td>\n",
              "      <td>427</td>\n",
              "      <td>1844.0</td>\n",
              "      <td>1</td>\n",
              "      <td>1</td>\n",
              "      <td>0</td>\n",
              "      <td>2022-09-06 04:31:36</td>\n",
              "      <td>642.688722</td>\n",
              "    </tr>\n",
              "    <tr>\n",
              "      <th>6</th>\n",
              "      <td>4</td>\n",
              "      <td>378</td>\n",
              "      <td>2</td>\n",
              "      <td>427</td>\n",
              "      <td>2143.0</td>\n",
              "      <td>2</td>\n",
              "      <td>1</td>\n",
              "      <td>0</td>\n",
              "      <td>2022-08-21 14:56:35</td>\n",
              "      <td>426.950541</td>\n",
              "    </tr>\n",
              "  </tbody>\n",
              "</table>\n",
              "</div>\n",
              "      <button class=\"colab-df-convert\" onclick=\"convertToInteractive('df-9ce9ecf4-06ec-404c-b9e9-5f52db859c32')\"\n",
              "              title=\"Convert this dataframe to an interactive table.\"\n",
              "              style=\"display:none;\">\n",
              "        \n",
              "  <svg xmlns=\"http://www.w3.org/2000/svg\" height=\"24px\"viewBox=\"0 0 24 24\"\n",
              "       width=\"24px\">\n",
              "    <path d=\"M0 0h24v24H0V0z\" fill=\"none\"/>\n",
              "    <path d=\"M18.56 5.44l.94 2.06.94-2.06 2.06-.94-2.06-.94-.94-2.06-.94 2.06-2.06.94zm-11 1L8.5 8.5l.94-2.06 2.06-.94-2.06-.94L8.5 2.5l-.94 2.06-2.06.94zm10 10l.94 2.06.94-2.06 2.06-.94-2.06-.94-.94-2.06-.94 2.06-2.06.94z\"/><path d=\"M17.41 7.96l-1.37-1.37c-.4-.4-.92-.59-1.43-.59-.52 0-1.04.2-1.43.59L10.3 9.45l-7.72 7.72c-.78.78-.78 2.05 0 2.83L4 21.41c.39.39.9.59 1.41.59.51 0 1.02-.2 1.41-.59l7.78-7.78 2.81-2.81c.8-.78.8-2.07 0-2.86zM5.41 20L4 18.59l7.72-7.72 1.47 1.35L5.41 20z\"/>\n",
              "  </svg>\n",
              "      </button>\n",
              "      \n",
              "  <style>\n",
              "    .colab-df-container {\n",
              "      display:flex;\n",
              "      flex-wrap:wrap;\n",
              "      gap: 12px;\n",
              "    }\n",
              "\n",
              "    .colab-df-convert {\n",
              "      background-color: #E8F0FE;\n",
              "      border: none;\n",
              "      border-radius: 50%;\n",
              "      cursor: pointer;\n",
              "      display: none;\n",
              "      fill: #1967D2;\n",
              "      height: 32px;\n",
              "      padding: 0 0 0 0;\n",
              "      width: 32px;\n",
              "    }\n",
              "\n",
              "    .colab-df-convert:hover {\n",
              "      background-color: #E2EBFA;\n",
              "      box-shadow: 0px 1px 2px rgba(60, 64, 67, 0.3), 0px 1px 3px 1px rgba(60, 64, 67, 0.15);\n",
              "      fill: #174EA6;\n",
              "    }\n",
              "\n",
              "    [theme=dark] .colab-df-convert {\n",
              "      background-color: #3B4455;\n",
              "      fill: #D2E3FC;\n",
              "    }\n",
              "\n",
              "    [theme=dark] .colab-df-convert:hover {\n",
              "      background-color: #434B5C;\n",
              "      box-shadow: 0px 1px 3px 1px rgba(0, 0, 0, 0.15);\n",
              "      filter: drop-shadow(0px 1px 2px rgba(0, 0, 0, 0.3));\n",
              "      fill: #FFFFFF;\n",
              "    }\n",
              "  </style>\n",
              "\n",
              "      <script>\n",
              "        const buttonEl =\n",
              "          document.querySelector('#df-9ce9ecf4-06ec-404c-b9e9-5f52db859c32 button.colab-df-convert');\n",
              "        buttonEl.style.display =\n",
              "          google.colab.kernel.accessAllowed ? 'block' : 'none';\n",
              "\n",
              "        async function convertToInteractive(key) {\n",
              "          const element = document.querySelector('#df-9ce9ecf4-06ec-404c-b9e9-5f52db859c32');\n",
              "          const dataTable =\n",
              "            await google.colab.kernel.invokeFunction('convertToInteractive',\n",
              "                                                     [key], {});\n",
              "          if (!dataTable) return;\n",
              "\n",
              "          const docLinkHtml = 'Like what you see? Visit the ' +\n",
              "            '<a target=\"_blank\" href=https://colab.research.google.com/notebooks/data_table.ipynb>data table notebook</a>'\n",
              "            + ' to learn more about interactive tables.';\n",
              "          element.innerHTML = '';\n",
              "          dataTable['output_type'] = 'display_data';\n",
              "          await google.colab.output.renderOutput(dataTable, element);\n",
              "          const docLink = document.createElement('div');\n",
              "          docLink.innerHTML = docLinkHtml;\n",
              "          element.appendChild(docLink);\n",
              "        }\n",
              "      </script>\n",
              "    </div>\n",
              "  </div>\n",
              "  "
            ]
          },
          "metadata": {},
          "execution_count": 11
        }
      ]
    },
    {
      "cell_type": "markdown",
      "source": [
        "And we can move on to the next step!"
      ],
      "metadata": {
        "id": "WVBbm-ZHg7wc"
      }
    },
    {
      "cell_type": "markdown",
      "source": [
        "## **Training without Featurization**"
      ],
      "metadata": {
        "id": "mA7Oz-FGMn-0"
      }
    },
    {
      "cell_type": "markdown",
      "source": [
        "In this part, we will train a Machine Learning model without Featurization.\n",
        "\n",
        "**This will allow us to see the difference when we use the technique.**\n",
        "\n",
        "We choose our model from the **lightgbm** (Light Gradient Boosting Machines) library:"
      ],
      "metadata": {
        "id": "sMknzC9JhCvV"
      }
    },
    {
      "cell_type": "code",
      "source": [
        "from lightgbm import LGBMRegressor\n",
        "\n",
        "model = LGBMRegressor(n_estimators=1000, verbose=-1, random_state=42)"
      ],
      "metadata": {
        "id": "flJ3dQv_Ei3s"
      },
      "execution_count": null,
      "outputs": []
    },
    {
      "cell_type": "markdown",
      "source": [
        "Next, we separate our dataset into training and test data:"
      ],
      "metadata": {
        "id": "tH8sp6WMhE0-"
      }
    },
    {
      "cell_type": "code",
      "source": [
        "X_train = X[:int(len(X)*0.8)].drop('created_at',axis=1)\n",
        "X_valid = X[int(len(X)*0.8):].drop('created_at',axis=1)\n",
        "y_train = y[:int(len(X)*0.8)]\n",
        "y_valid = y[int(len(X)*0.8):]"
      ],
      "metadata": {
        "id": "T43f9mNWE9_e"
      },
      "execution_count": null,
      "outputs": []
    },
    {
      "cell_type": "markdown",
      "source": [
        "*I should point out that the created_at column will not be used for training. We can’t use it because this column doesn’t contain only numbers. Nevertheless, it will be used for the Featurization.*\n",
        "\n",
        "We train the model:"
      ],
      "metadata": {
        "id": "yDl-kIcdhHbm"
      }
    },
    {
      "cell_type": "code",
      "source": [
        "model.fit(X_train,y_train)"
      ],
      "metadata": {
        "colab": {
          "base_uri": "https://localhost:8080/"
        },
        "id": "fOexyQsPEmKU",
        "outputId": "38e39b76-923f-4953-ad78-38864cfad0e9"
      },
      "execution_count": null,
      "outputs": [
        {
          "output_type": "execute_result",
          "data": {
            "text/plain": [
              "LGBMRegressor(n_estimators=1000, random_state=42, verbose=-1)"
            ]
          },
          "metadata": {},
          "execution_count": 20
        }
      ]
    },
    {
      "cell_type": "markdown",
      "source": [
        "Then we compute the final score:"
      ],
      "metadata": {
        "id": "MhU7YvaKhJyy"
      }
    },
    {
      "cell_type": "code",
      "source": [
        "model.score(X_valid,y_valid)"
      ],
      "metadata": {
        "colab": {
          "base_uri": "https://localhost:8080/"
        },
        "id": "4V2aPMqkEmMh",
        "outputId": "ae23f659-c4e4-488b-e1f7-caaef94d8b87"
      },
      "execution_count": null,
      "outputs": [
        {
          "output_type": "execute_result",
          "data": {
            "text/plain": [
              "0.898867774495464"
            ]
          },
          "metadata": {},
          "execution_count": 21
        }
      ]
    },
    {
      "cell_type": "markdown",
      "source": [
        "**The accuracy is 89% which is already very good!**\n",
        "\n",
        "Our goal now is to use Featurization to increase this score.\n",
        "\n",
        "*Note for curious mathematicians: to calculate the precision in a regression, we use the coefficient of determination.*"
      ],
      "metadata": {
        "id": "BezbMBG-hLRZ"
      }
    },
    {
      "cell_type": "markdown",
      "source": [
        "## **Featurization**"
      ],
      "metadata": {
        "id": "cQW3xgkPNBDG"
      }
    },
    {
      "cell_type": "markdown",
      "source": [
        "We arrive at the eagerly awaited technique: **Featurization**.\n",
        "\n",
        "> **The objective of Featurization** is to add information to our dataset to enrich it.\n",
        "\n",
        "Here I propose to add the column: **Player’s win count.**\n",
        "\n",
        "Reminder: each line corresponds to **the match of a player against a robot.** We will have here a new column corresponding to the **player’s win count.**\n",
        "\n",
        "The column *created_at*, allows us to have the date of each match and the column winner allows us to know who is the winner.\n",
        "\n",
        "**With Featurization, we merge the information from these two columns to create a new one.** This allows us to create information that we would not have had before.\n",
        "\n",
        "In our case we get **the number of wins of the player in the current match.**\n",
        "\n",
        "Here is the function to create the column called *cumm_player_wins* :"
      ],
      "metadata": {
        "id": "sPKvo_dAhPt_"
      }
    },
    {
      "cell_type": "code",
      "source": [
        "import numpy as np\n",
        "\n",
        "def create_cumm_player_wins(df):\n",
        "    df = df[[\"nickname\", \"created_at\",\"winner\"]]    \n",
        "    df= df.sort_values(by=\"created_at\")\n",
        "    df[\"cumm_player_wins\"] = np.zeros(len(df))\n",
        "\n",
        "    for nickname in df[\"nickname\"].unique():    \n",
        "        df.loc[df[\"nickname\"]==nickname, \"cumm_player_wins\"]= np.append(0, df[df[\"nickname\"]==nickname][\"winner\"].expanding(min_periods=1).sum().values[:-1])\n",
        "      \n",
        "    df[[\"cumm_player_wins\"]] = df[[\"cumm_player_wins\"]].fillna(0)\n",
        "    df = df.sort_index()\n",
        "    \n",
        "    return df[[\"cumm_player_wins\"]]"
      ],
      "metadata": {
        "id": "-EwNraJcuEUE"
      },
      "execution_count": null,
      "outputs": []
    },
    {
      "cell_type": "markdown",
      "source": [
        "We use the function with *create_cumm_player_wins(X.copy())* while adding the newly created column in X with *X.join()* :"
      ],
      "metadata": {
        "id": "AO-FEFQwhfMV"
      }
    },
    {
      "cell_type": "code",
      "source": [
        "X_featurize = X.join(create_cumm_player_wins(X.copy()))"
      ],
      "metadata": {
        "id": "e-TyCuRXDPkX"
      },
      "execution_count": null,
      "outputs": []
    },
    {
      "cell_type": "markdown",
      "source": [
        "We can display **the result:**"
      ],
      "metadata": {
        "id": "YC62KWJwhkFU"
      }
    },
    {
      "cell_type": "code",
      "source": [
        "X_featurize.head()"
      ],
      "metadata": {
        "id": "7g8kpb_bgDsw",
        "outputId": "1e7c09d5-dec9-4c0c-ad82-7cb0ffae858a",
        "colab": {
          "base_uri": "https://localhost:8080/",
          "height": 235
        }
      },
      "execution_count": null,
      "outputs": [
        {
          "output_type": "execute_result",
          "data": {
            "text/plain": [
              "         nickname  score  bot_name  bot_score  bot_rating  first  \\\n",
              "game_id                                                            \n",
              "1               1    429         1        335      1637.0      1   \n",
              "3               2    440         1        318      2071.0      1   \n",
              "4               3    119         1        478      1936.0      1   \n",
              "5               1    325         2        427      1844.0      1   \n",
              "6               4    378         2        427      2143.0      2   \n",
              "\n",
              "         game_end_reason  winner          created_at  game_duration_seconds  \\\n",
              "game_id                                                                       \n",
              "1                      1       1 2022-08-26 03:38:49             674.844274   \n",
              "3                      1       1 2022-09-04 08:04:27             492.268262   \n",
              "4                      2       0 2022-09-12 02:36:19             350.861141   \n",
              "5                      1       0 2022-09-06 04:31:36             642.688722   \n",
              "6                      1       0 2022-08-21 14:56:35             426.950541   \n",
              "\n",
              "         cumm_player_wins  \n",
              "game_id                    \n",
              "1                    58.0  \n",
              "3                    52.0  \n",
              "4                    29.0  \n",
              "5                    90.0  \n",
              "6                    54.0  "
            ],
            "text/html": [
              "\n",
              "  <div id=\"df-62a8aa86-e3f0-4d9a-81ea-521d84fd310d\">\n",
              "    <div class=\"colab-df-container\">\n",
              "      <div>\n",
              "<style scoped>\n",
              "    .dataframe tbody tr th:only-of-type {\n",
              "        vertical-align: middle;\n",
              "    }\n",
              "\n",
              "    .dataframe tbody tr th {\n",
              "        vertical-align: top;\n",
              "    }\n",
              "\n",
              "    .dataframe thead th {\n",
              "        text-align: right;\n",
              "    }\n",
              "</style>\n",
              "<table border=\"1\" class=\"dataframe\">\n",
              "  <thead>\n",
              "    <tr style=\"text-align: right;\">\n",
              "      <th></th>\n",
              "      <th>nickname</th>\n",
              "      <th>score</th>\n",
              "      <th>bot_name</th>\n",
              "      <th>bot_score</th>\n",
              "      <th>bot_rating</th>\n",
              "      <th>first</th>\n",
              "      <th>game_end_reason</th>\n",
              "      <th>winner</th>\n",
              "      <th>created_at</th>\n",
              "      <th>game_duration_seconds</th>\n",
              "      <th>cumm_player_wins</th>\n",
              "    </tr>\n",
              "    <tr>\n",
              "      <th>game_id</th>\n",
              "      <th></th>\n",
              "      <th></th>\n",
              "      <th></th>\n",
              "      <th></th>\n",
              "      <th></th>\n",
              "      <th></th>\n",
              "      <th></th>\n",
              "      <th></th>\n",
              "      <th></th>\n",
              "      <th></th>\n",
              "      <th></th>\n",
              "    </tr>\n",
              "  </thead>\n",
              "  <tbody>\n",
              "    <tr>\n",
              "      <th>1</th>\n",
              "      <td>1</td>\n",
              "      <td>429</td>\n",
              "      <td>1</td>\n",
              "      <td>335</td>\n",
              "      <td>1637.0</td>\n",
              "      <td>1</td>\n",
              "      <td>1</td>\n",
              "      <td>1</td>\n",
              "      <td>2022-08-26 03:38:49</td>\n",
              "      <td>674.844274</td>\n",
              "      <td>58.0</td>\n",
              "    </tr>\n",
              "    <tr>\n",
              "      <th>3</th>\n",
              "      <td>2</td>\n",
              "      <td>440</td>\n",
              "      <td>1</td>\n",
              "      <td>318</td>\n",
              "      <td>2071.0</td>\n",
              "      <td>1</td>\n",
              "      <td>1</td>\n",
              "      <td>1</td>\n",
              "      <td>2022-09-04 08:04:27</td>\n",
              "      <td>492.268262</td>\n",
              "      <td>52.0</td>\n",
              "    </tr>\n",
              "    <tr>\n",
              "      <th>4</th>\n",
              "      <td>3</td>\n",
              "      <td>119</td>\n",
              "      <td>1</td>\n",
              "      <td>478</td>\n",
              "      <td>1936.0</td>\n",
              "      <td>1</td>\n",
              "      <td>2</td>\n",
              "      <td>0</td>\n",
              "      <td>2022-09-12 02:36:19</td>\n",
              "      <td>350.861141</td>\n",
              "      <td>29.0</td>\n",
              "    </tr>\n",
              "    <tr>\n",
              "      <th>5</th>\n",
              "      <td>1</td>\n",
              "      <td>325</td>\n",
              "      <td>2</td>\n",
              "      <td>427</td>\n",
              "      <td>1844.0</td>\n",
              "      <td>1</td>\n",
              "      <td>1</td>\n",
              "      <td>0</td>\n",
              "      <td>2022-09-06 04:31:36</td>\n",
              "      <td>642.688722</td>\n",
              "      <td>90.0</td>\n",
              "    </tr>\n",
              "    <tr>\n",
              "      <th>6</th>\n",
              "      <td>4</td>\n",
              "      <td>378</td>\n",
              "      <td>2</td>\n",
              "      <td>427</td>\n",
              "      <td>2143.0</td>\n",
              "      <td>2</td>\n",
              "      <td>1</td>\n",
              "      <td>0</td>\n",
              "      <td>2022-08-21 14:56:35</td>\n",
              "      <td>426.950541</td>\n",
              "      <td>54.0</td>\n",
              "    </tr>\n",
              "  </tbody>\n",
              "</table>\n",
              "</div>\n",
              "      <button class=\"colab-df-convert\" onclick=\"convertToInteractive('df-62a8aa86-e3f0-4d9a-81ea-521d84fd310d')\"\n",
              "              title=\"Convert this dataframe to an interactive table.\"\n",
              "              style=\"display:none;\">\n",
              "        \n",
              "  <svg xmlns=\"http://www.w3.org/2000/svg\" height=\"24px\"viewBox=\"0 0 24 24\"\n",
              "       width=\"24px\">\n",
              "    <path d=\"M0 0h24v24H0V0z\" fill=\"none\"/>\n",
              "    <path d=\"M18.56 5.44l.94 2.06.94-2.06 2.06-.94-2.06-.94-.94-2.06-.94 2.06-2.06.94zm-11 1L8.5 8.5l.94-2.06 2.06-.94-2.06-.94L8.5 2.5l-.94 2.06-2.06.94zm10 10l.94 2.06.94-2.06 2.06-.94-2.06-.94-.94-2.06-.94 2.06-2.06.94z\"/><path d=\"M17.41 7.96l-1.37-1.37c-.4-.4-.92-.59-1.43-.59-.52 0-1.04.2-1.43.59L10.3 9.45l-7.72 7.72c-.78.78-.78 2.05 0 2.83L4 21.41c.39.39.9.59 1.41.59.51 0 1.02-.2 1.41-.59l7.78-7.78 2.81-2.81c.8-.78.8-2.07 0-2.86zM5.41 20L4 18.59l7.72-7.72 1.47 1.35L5.41 20z\"/>\n",
              "  </svg>\n",
              "      </button>\n",
              "      \n",
              "  <style>\n",
              "    .colab-df-container {\n",
              "      display:flex;\n",
              "      flex-wrap:wrap;\n",
              "      gap: 12px;\n",
              "    }\n",
              "\n",
              "    .colab-df-convert {\n",
              "      background-color: #E8F0FE;\n",
              "      border: none;\n",
              "      border-radius: 50%;\n",
              "      cursor: pointer;\n",
              "      display: none;\n",
              "      fill: #1967D2;\n",
              "      height: 32px;\n",
              "      padding: 0 0 0 0;\n",
              "      width: 32px;\n",
              "    }\n",
              "\n",
              "    .colab-df-convert:hover {\n",
              "      background-color: #E2EBFA;\n",
              "      box-shadow: 0px 1px 2px rgba(60, 64, 67, 0.3), 0px 1px 3px 1px rgba(60, 64, 67, 0.15);\n",
              "      fill: #174EA6;\n",
              "    }\n",
              "\n",
              "    [theme=dark] .colab-df-convert {\n",
              "      background-color: #3B4455;\n",
              "      fill: #D2E3FC;\n",
              "    }\n",
              "\n",
              "    [theme=dark] .colab-df-convert:hover {\n",
              "      background-color: #434B5C;\n",
              "      box-shadow: 0px 1px 3px 1px rgba(0, 0, 0, 0.15);\n",
              "      filter: drop-shadow(0px 1px 2px rgba(0, 0, 0, 0.3));\n",
              "      fill: #FFFFFF;\n",
              "    }\n",
              "  </style>\n",
              "\n",
              "      <script>\n",
              "        const buttonEl =\n",
              "          document.querySelector('#df-62a8aa86-e3f0-4d9a-81ea-521d84fd310d button.colab-df-convert');\n",
              "        buttonEl.style.display =\n",
              "          google.colab.kernel.accessAllowed ? 'block' : 'none';\n",
              "\n",
              "        async function convertToInteractive(key) {\n",
              "          const element = document.querySelector('#df-62a8aa86-e3f0-4d9a-81ea-521d84fd310d');\n",
              "          const dataTable =\n",
              "            await google.colab.kernel.invokeFunction('convertToInteractive',\n",
              "                                                     [key], {});\n",
              "          if (!dataTable) return;\n",
              "\n",
              "          const docLinkHtml = 'Like what you see? Visit the ' +\n",
              "            '<a target=\"_blank\" href=https://colab.research.google.com/notebooks/data_table.ipynb>data table notebook</a>'\n",
              "            + ' to learn more about interactive tables.';\n",
              "          element.innerHTML = '';\n",
              "          dataTable['output_type'] = 'display_data';\n",
              "          await google.colab.output.renderOutput(dataTable, element);\n",
              "          const docLink = document.createElement('div');\n",
              "          docLink.innerHTML = docLinkHtml;\n",
              "          element.appendChild(docLink);\n",
              "        }\n",
              "      </script>\n",
              "    </div>\n",
              "  </div>\n",
              "  "
            ]
          },
          "metadata": {},
          "execution_count": 29
        }
      ]
    },
    {
      "cell_type": "markdown",
      "source": [
        "And finally, we repeat the same process as before, splitting our data between **training** and **validation**:"
      ],
      "metadata": {
        "id": "sZOqP_PKh5Vm"
      }
    },
    {
      "cell_type": "code",
      "source": [
        "X_featurize_train = X_featurize[:int(len(X)*0.8)].drop('created_at',axis=1)\n",
        "X_featurize_valid = X_featurize[int(len(X)*0.8):].drop('created_at',axis=1)\n",
        "y_train = y[:int(len(X)*0.8)]\n",
        "y_valid = y[int(len(X)*0.8):]"
      ],
      "metadata": {
        "id": "gizTSBLaFJbX"
      },
      "execution_count": null,
      "outputs": []
    },
    {
      "cell_type": "markdown",
      "source": [
        "We initialize the model :"
      ],
      "metadata": {
        "id": "XkRBADLPh7kr"
      }
    },
    {
      "cell_type": "code",
      "source": [
        "model = LGBMRegressor(n_estimators=1000, verbose=-1, random_state=42)"
      ],
      "metadata": {
        "id": "5eBS2s85FEMJ"
      },
      "execution_count": null,
      "outputs": []
    },
    {
      "cell_type": "markdown",
      "source": [
        "We train it :"
      ],
      "metadata": {
        "id": "3XAa7lvIh9th"
      }
    },
    {
      "cell_type": "code",
      "source": [
        "model.fit(X_featurize_train,y_train)"
      ],
      "metadata": {
        "colab": {
          "base_uri": "https://localhost:8080/"
        },
        "outputId": "0c9c2453-b3e8-4aae-bb6b-377fda650008",
        "id": "hdE1-Q52FEMN"
      },
      "execution_count": null,
      "outputs": [
        {
          "output_type": "execute_result",
          "data": {
            "text/plain": [
              "LGBMRegressor(n_estimators=1000, random_state=42, verbose=-1)"
            ]
          },
          "metadata": {},
          "execution_count": 27
        }
      ]
    },
    {
      "cell_type": "markdown",
      "source": [
        "And we compute the score:"
      ],
      "metadata": {
        "id": "enOv4fkCh_DM"
      }
    },
    {
      "cell_type": "code",
      "source": [
        "model.score(X_featurize_valid,y_valid)"
      ],
      "metadata": {
        "colab": {
          "base_uri": "https://localhost:8080/"
        },
        "outputId": "9b89a3dc-9420-4fca-bd84-abd6e2671033",
        "id": "XsDd23OPFEMO"
      },
      "execution_count": null,
      "outputs": [
        {
          "output_type": "execute_result",
          "data": {
            "text/plain": [
              "0.9231054527830926"
            ]
          },
          "metadata": {},
          "execution_count": 28
        }
      ]
    },
    {
      "cell_type": "markdown",
      "source": [
        "We obtain an accuracy of 92.3%!\n",
        "\n",
        "This is an increase of 3% compared to the last model, it’s huge!\n",
        "\n",
        "**It’s your turn to you to use Featurization in your own projects now.**\n",
        "\n",
        "And if you FURTHER want to increase your accuracy, other techniques exist!\n",
        "\n",
        "Check out our articles presenting them:\n",
        "\n",
        "- [Normalize data](https://inside-machinelearning.com/en/normalize-your-data/)\n",
        "- [Cross-Validation](https://inside-machinelearning.com/en/cross-validation-tutorial/)\n",
        "- [Changing the models hyperparameters](https://inside-machinelearning.com/en/decision-tree-and-hyperparameters/)\n",
        "- Ensemble methods\n",
        "\n",
        "See you soon 😉\n",
        "\n",
        "Tom"
      ],
      "metadata": {
        "id": "owUVHimdiA3e"
      }
    }
  ]
}